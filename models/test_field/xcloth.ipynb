{
 "cells": [
  {
   "cell_type": "code",
   "execution_count": 1,
   "metadata": {},
   "outputs": [
    {
     "name": "stderr",
     "output_type": "stream",
     "text": [
      "c:\\Users\\skyfl\\.conda\\envs\\data_sci\\lib\\site-packages\\tqdm\\auto.py:21: TqdmWarning: IProgress not found. Please update jupyter and ipywidgets. See https://ipywidgets.readthedocs.io/en/stable/user_install.html\n",
      "  from .autonotebook import tqdm as notebook_tqdm\n"
     ]
    }
   ],
   "source": [
    "import torch\n",
    "from torchvision.models import resnet18\n",
    "import numpy"
   ]
  },
  {
   "cell_type": "code",
   "execution_count": null,
   "metadata": {},
   "outputs": [],
   "source": [
    "class SharedEncoder(torch.nn.Module):\n",
    "    def __init__(self) -> None:\n",
    "        super().__init__()\n",
    "\n",
    "        # rgb image to encoding with 64 channela\n",
    "        self.conv2d = torch.nn.Conv2d(8, 64, 7, padding=3)\n",
    "\n",
    "        # downsampling\n",
    "        self.avg_pooling = torch.nn.AvgPool2d(64, 128, 3, padding=1, stride=2)\n",
    "        self.max_pooling = torch.nn.MaxPool2d(128, 256, 3, padding=1, stride=2)\n",
    "\n",
    "        # resnet encoding\n",
    "        # input: 128 x 128 x 256\n",
    "        self.resnet = resnet18()\n",
    "        self.resnet.fc = torch.nn.Identity()    # remove the last fc layer\n",
    "\n",
    "    def forward(self, x_img: torch.Tensor, x_smpl: torch.Tensor):\n",
    "        \"\"\"\n",
    "        @param x_img: 4(C) x 512(H) x 512(W) rgba image\n",
    "        @param x_smpl: 4(N) x 512(W) x 512(H) peel map\n",
    "        \"\"\"\n",
    "\n",
    "        # concat\n",
    "        x = torch.concat(x_img, x_smpl, dim=0)\n",
    "        x = self.conv2d(x)\n",
    "        x = self.avg_pooling(x)\n",
    "        x = self.max_pooling(x)\n",
    "        x = self.resnet(x)\n",
    "\n",
    "        return x\n"
   ]
  },
  {
   "cell_type": "code",
   "execution_count": null,
   "metadata": {},
   "outputs": [],
   "source": [
    "class Decoder(torch.nn.Module):\n",
    "    def __init__(self) -> None:\n",
    "        super().__init__()"
   ]
  }
 ],
 "metadata": {
  "kernelspec": {
   "display_name": "data_sci",
   "language": "python",
   "name": "python3"
  },
  "language_info": {
   "codemirror_mode": {
    "name": "ipython",
    "version": 3
   },
   "file_extension": ".py",
   "mimetype": "text/x-python",
   "name": "python",
   "nbconvert_exporter": "python",
   "pygments_lexer": "ipython3",
   "version": "3.10.9"
  },
  "orig_nbformat": 4
 },
 "nbformat": 4,
 "nbformat_minor": 2
}
