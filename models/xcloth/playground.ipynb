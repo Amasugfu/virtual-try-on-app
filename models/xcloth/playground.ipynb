{
 "cells": [
  {
   "cell_type": "code",
   "execution_count": 1,
   "metadata": {},
   "outputs": [
    {
     "name": "stderr",
     "output_type": "stream",
     "text": [
      "c:\\Users\\skyfl\\.conda\\envs\\data_sci\\lib\\site-packages\\tqdm\\auto.py:21: TqdmWarning: IProgress not found. Please update jupyter and ipywidgets. See https://ipywidgets.readthedocs.io/en/stable/user_install.html\n",
      "  from .autonotebook import tqdm as notebook_tqdm\n"
     ]
    }
   ],
   "source": [
    "import torch\n",
    "from torchvision.models import resnet18\n",
    "import numpy as np\n",
    "\n",
    "np.random.seed(1)"
   ]
  },
  {
   "cell_type": "code",
   "execution_count": 2,
   "metadata": {},
   "outputs": [],
   "source": [
    "from encoder import Encoder\n",
    "\n",
    "shared_enc = Encoder()"
   ]
  },
  {
   "cell_type": "code",
   "execution_count": 3,
   "metadata": {},
   "outputs": [
    {
     "name": "stdout",
     "output_type": "stream",
     "text": [
      "ConvDownSampling(\n",
      "  (conv): Conv2d(64, 128, kernel_size=(3, 3), stride=(2, 2), padding=(1, 1))\n",
      "  (norm): BatchNorm2d(128, eps=1e-05, momentum=0.1, affine=True, track_running_stats=True)\n",
      "  (activation): ReLU(inplace=True)\n",
      ")\n"
     ]
    },
    {
     "data": {
      "text/plain": [
       "tensor([[[[0.0000, 1.1512, 0.5034,  ..., 0.9283, 1.2661, 1.5769],\n",
       "          [0.0000, 0.1085, 0.0000,  ..., 0.0000, 0.0000, 0.0000],\n",
       "          [0.0000, 0.5999, 0.1102,  ..., 1.2736, 0.6161, 0.0000],\n",
       "          ...,\n",
       "          [0.0000, 0.0240, 0.0000,  ..., 0.0000, 0.0000, 0.0000],\n",
       "          [0.0000, 1.0429, 0.0000,  ..., 1.7581, 0.0000, 0.8033],\n",
       "          [0.0000, 1.5472, 0.2122,  ..., 0.0000, 1.3116, 0.2791]],\n",
       "\n",
       "         [[0.2306, 0.0000, 0.1030,  ..., 0.0000, 1.1904, 0.3912],\n",
       "          [1.0564, 0.0000, 0.0000,  ..., 0.0000, 0.0000, 0.5094],\n",
       "          [0.5429, 0.0000, 0.0000,  ..., 0.8981, 0.0000, 0.0000],\n",
       "          ...,\n",
       "          [1.3015, 0.0000, 2.2838,  ..., 0.0977, 0.8037, 0.3305],\n",
       "          [1.6965, 0.0000, 0.9773,  ..., 1.5513, 0.2076, 0.6347],\n",
       "          [0.6511, 0.0000, 1.4714,  ..., 0.8020, 0.0000, 0.0000]],\n",
       "\n",
       "         [[3.6626, 2.1424, 2.2959,  ..., 1.9138, 1.6975, 1.5668],\n",
       "          [2.8006, 0.2167, 0.0000,  ..., 0.2463, 1.0628, 1.2671],\n",
       "          [1.9699, 0.0000, 0.1531,  ..., 2.0756, 0.0000, 0.0000],\n",
       "          ...,\n",
       "          [2.6656, 0.0000, 0.5282,  ..., 0.0000, 0.0000, 0.0000],\n",
       "          [1.1265, 1.2389, 0.2866,  ..., 0.0000, 0.0000, 0.0000],\n",
       "          [1.9189, 0.6505, 0.0000,  ..., 0.0000, 0.6590, 0.0000]],\n",
       "\n",
       "         ...,\n",
       "\n",
       "         [[0.0000, 0.0000, 0.0000,  ..., 0.0000, 0.0000, 0.0000],\n",
       "          [0.2405, 0.3672, 0.1523,  ..., 0.0000, 0.4599, 0.2705],\n",
       "          [0.0000, 0.0000, 0.0000,  ..., 0.0000, 0.0000, 0.0000],\n",
       "          ...,\n",
       "          [0.7331, 0.3305, 0.0000,  ..., 1.2924, 1.1220, 1.1376],\n",
       "          [2.1836, 0.0000, 0.0000,  ..., 0.0000, 2.3821, 0.0000],\n",
       "          [0.0362, 0.6490, 0.8302,  ..., 0.0000, 0.0000, 0.2795]],\n",
       "\n",
       "         [[1.0335, 1.3146, 0.8528,  ..., 1.7352, 0.6462, 0.2299],\n",
       "          [0.5895, 0.9445, 0.0000,  ..., 0.0000, 0.0000, 0.7717],\n",
       "          [1.8264, 0.2379, 1.2730,  ..., 0.0000, 0.0000, 0.0000],\n",
       "          ...,\n",
       "          [0.0000, 0.9906, 1.6747,  ..., 0.0000, 0.0000, 0.0000],\n",
       "          [0.0000, 0.4315, 0.0000,  ..., 0.0000, 0.0000, 0.0000],\n",
       "          [0.0000, 0.0000, 0.0000,  ..., 0.0000, 0.1310, 0.0000]],\n",
       "\n",
       "         [[2.0518, 1.7702, 2.0568,  ..., 1.9600, 1.2831, 1.9295],\n",
       "          [1.8678, 0.0000, 2.5435,  ..., 0.0000, 0.0000, 0.0000],\n",
       "          [2.9143, 0.0000, 0.0000,  ..., 0.2073, 0.0000, 0.2846],\n",
       "          ...,\n",
       "          [1.7061, 2.6047, 0.0000,  ..., 0.2556, 0.0000, 0.4009],\n",
       "          [2.1640, 0.0000, 0.7340,  ..., 0.6386, 0.0000, 1.3308],\n",
       "          [2.7655, 0.2983, 1.6060,  ..., 0.0000, 0.0000, 0.0000]]]],\n",
       "       grad_fn=<ReluBackward0>)"
      ]
     },
     "execution_count": 3,
     "metadata": {},
     "output_type": "execute_result"
    }
   ],
   "source": [
    "from sampling import build_sampling_layers, ConvDownSampling\n",
    "\n",
    "# t = build_sampling_layers(\n",
    "#     ConvDownSampling, 64, 3, 2, 2\n",
    "# )\n",
    "\n",
    "t = ConvDownSampling(64, 3)\n",
    "print(t)\n",
    "test_x = torch.Tensor(np.random.random((1, 64, 512, 512)))\n",
    "t(test_x)"
   ]
  },
  {
   "cell_type": "code",
   "execution_count": 4,
   "metadata": {},
   "outputs": [
    {
     "data": {
      "text/plain": [
       "tensor([[[0.5740, 0.5396, 0.0502,  ..., 0.2481, 0.4747, 0.8183],\n",
       "         [0.1873, 0.2236, 0.3850,  ..., 0.9907, 0.5986, 0.6562],\n",
       "         [0.5847, 0.8737, 0.6943,  ..., 0.2625, 0.9006, 0.0972],\n",
       "         ...,\n",
       "         [0.9083, 0.9553, 0.8996,  ..., 0.0762, 0.7806, 0.2407],\n",
       "         [0.8170, 0.7560, 0.2434,  ..., 0.7512, 0.1368, 0.4406],\n",
       "         [0.1650, 0.5508, 0.2480,  ..., 0.1616, 0.1395, 0.3958]],\n",
       "\n",
       "        [[0.6302, 0.4014, 0.0293,  ..., 0.7782, 0.7711, 0.4987],\n",
       "         [0.3310, 0.7213, 0.7662,  ..., 0.0817, 0.4991, 0.6109],\n",
       "         [0.3627, 0.9505, 0.5200,  ..., 0.4299, 0.2510, 0.3201],\n",
       "         ...,\n",
       "         [0.5977, 0.9862, 0.3209,  ..., 0.9485, 0.1235, 0.8796],\n",
       "         [0.3146, 0.0865, 0.6156,  ..., 0.1853, 0.6330, 0.5481],\n",
       "         [0.4614, 0.1814, 0.3649,  ..., 0.5949, 0.4866, 0.9520]],\n",
       "\n",
       "        [[0.5531, 0.2648, 0.1227,  ..., 0.7683, 0.2067, 0.2524],\n",
       "         [0.8197, 0.7022, 0.4613,  ..., 0.6626, 0.7867, 0.5269],\n",
       "         [0.6006, 0.7050, 0.3127,  ..., 0.9765, 0.0483, 0.9051],\n",
       "         ...,\n",
       "         [0.9659, 0.3217, 0.6598,  ..., 0.9089, 0.1587, 0.5555],\n",
       "         [0.8197, 0.1452, 0.0136,  ..., 0.7349, 0.5600, 0.1074],\n",
       "         [0.5704, 0.8993, 0.4147,  ..., 0.7912, 0.3475, 0.8407]],\n",
       "\n",
       "        [[0.7756, 0.2407, 0.4090,  ..., 0.4038, 0.0399, 0.1601],\n",
       "         [0.8250, 0.6548, 0.1537,  ..., 0.8694, 0.5358, 0.1579],\n",
       "         [0.2582, 0.4325, 0.2504,  ..., 0.1331, 0.6226, 0.5830],\n",
       "         ...,\n",
       "         [0.4172, 0.4472, 0.0818,  ..., 0.5181, 0.3581, 0.1041],\n",
       "         [0.0405, 0.7250, 0.8308,  ..., 0.6613, 0.3305, 0.5888],\n",
       "         [0.6876, 0.2261, 0.0527,  ..., 0.8615, 0.2363, 0.6233]]])"
      ]
     },
     "execution_count": 4,
     "metadata": {},
     "output_type": "execute_result"
    }
   ],
   "source": [
    "test_x = torch.Tensor(np.random.random((4, 512, 512)))\n",
    "test_x"
   ]
  },
  {
   "cell_type": "code",
   "execution_count": 5,
   "metadata": {},
   "outputs": [
    {
     "data": {
      "text/plain": [
       "torch.Size([1, 256, 128, 128])"
      ]
     },
     "execution_count": 5,
     "metadata": {},
     "output_type": "execute_result"
    }
   ],
   "source": [
    "shared_enc(test_x, test_x).shape"
   ]
  },
  {
   "cell_type": "code",
   "execution_count": 6,
   "metadata": {},
   "outputs": [
    {
     "name": "stdout",
     "output_type": "stream",
     "text": [
      "torch.Size([1, 4, 512, 512]) torch.Size([1, 12, 512, 512]) torch.Size([1, 12, 512, 512])\n"
     ]
    }
   ],
   "source": [
    "from decoder import DepthDecoder, NormDecoder, RGBDecoder\n",
    "\n",
    "decoder_d = DepthDecoder()\n",
    "decoder_n = NormDecoder()\n",
    "decoder_rgb = RGBDecoder()\n",
    "\n",
    "\n",
    "test_out = torch.Tensor(np.random.random((1, 256, 128, 128)))\n",
    "print(decoder_d(test_out).shape,\n",
    "      decoder_n(test_out).shape,\n",
    "      decoder_rgb(test_out).shape,\n",
    ")"
   ]
  },
  {
   "cell_type": "code",
   "execution_count": null,
   "metadata": {},
   "outputs": [],
   "source": []
  }
 ],
 "metadata": {
  "kernelspec": {
   "display_name": "data_sci",
   "language": "python",
   "name": "python3"
  },
  "language_info": {
   "codemirror_mode": {
    "name": "ipython",
    "version": 3
   },
   "file_extension": ".py",
   "mimetype": "text/x-python",
   "name": "python",
   "nbconvert_exporter": "python",
   "pygments_lexer": "ipython3",
   "version": "3.10.9"
  },
  "orig_nbformat": 4
 },
 "nbformat": 4,
 "nbformat_minor": 2
}
