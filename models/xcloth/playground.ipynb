{
 "cells": [
  {
   "cell_type": "code",
   "execution_count": 3,
   "metadata": {},
   "outputs": [
    {
     "name": "stderr",
     "output_type": "stream",
     "text": [
      "c:\\Users\\skyfl\\.conda\\envs\\data_sci\\lib\\site-packages\\tqdm\\auto.py:21: TqdmWarning: IProgress not found. Please update jupyter and ipywidgets. See https://ipywidgets.readthedocs.io/en/stable/user_install.html\n",
      "  from .autonotebook import tqdm as notebook_tqdm\n"
     ]
    }
   ],
   "source": [
    "import torch\n",
    "import numpy as np\n",
    "\n",
    "np.random.seed(1)\n",
    "\n",
    "import os, sys\n",
    "m_path = os.path.abspath(os.path.join(\"..\"))\n",
    "if m_path not in sys.path:\n",
    "    sys.path.append(m_path)"
   ]
  },
  {
   "cell_type": "code",
   "execution_count": 18,
   "metadata": {},
   "outputs": [],
   "source": [
    "from xcloth.components.encoder import Encoder\n",
    "\n",
    "shared_enc = Encoder()"
   ]
  },
  {
   "cell_type": "code",
   "execution_count": 19,
   "metadata": {},
   "outputs": [
    {
     "name": "stdout",
     "output_type": "stream",
     "text": [
      "ConvDownSampling(\n",
      "  (conv): Conv2d(64, 128, kernel_size=(3, 3), stride=(2, 2), padding=(1, 1))\n",
      "  (norm): BatchNorm2d(128, eps=1e-05, momentum=0.1, affine=True, track_running_stats=True)\n",
      "  (activation): ReLU(inplace=True)\n",
      ")\n"
     ]
    },
    {
     "data": {
      "text/plain": [
       "tensor([[[[1.9600e+00, 5.3775e-01, 3.9206e-01,  ..., 3.1893e-03,\n",
       "           5.7747e-01, 0.0000e+00],\n",
       "          [2.1664e+00, 0.0000e+00, 0.0000e+00,  ..., 0.0000e+00,\n",
       "           0.0000e+00, 0.0000e+00],\n",
       "          [1.0038e+00, 0.0000e+00, 0.0000e+00,  ..., 0.0000e+00,\n",
       "           0.0000e+00, 4.8823e-01],\n",
       "          ...,\n",
       "          [2.9932e-01, 0.0000e+00, 0.0000e+00,  ..., 0.0000e+00,\n",
       "           6.2608e-01, 0.0000e+00],\n",
       "          [1.2210e+00, 0.0000e+00, 0.0000e+00,  ..., 0.0000e+00,\n",
       "           0.0000e+00, 6.3636e-02],\n",
       "          [0.0000e+00, 1.0854e+00, 0.0000e+00,  ..., 1.0034e+00,\n",
       "           1.6886e+00, 0.0000e+00]],\n",
       "\n",
       "         [[1.3769e+00, 1.8512e+00, 1.4120e+00,  ..., 1.7533e+00,\n",
       "           1.6579e+00, 2.8111e+00],\n",
       "          [4.4268e-01, 0.0000e+00, 0.0000e+00,  ..., 0.0000e+00,\n",
       "           0.0000e+00, 7.0290e-01],\n",
       "          [1.3785e+00, 4.8810e-01, 9.0251e-01,  ..., 0.0000e+00,\n",
       "           0.0000e+00, 5.9862e-01],\n",
       "          ...,\n",
       "          [7.7071e-01, 0.0000e+00, 0.0000e+00,  ..., 1.1106e+00,\n",
       "           3.4388e-01, 3.7368e-01],\n",
       "          [0.0000e+00, 1.8349e+00, 1.0465e+00,  ..., 1.8697e-01,\n",
       "           1.0654e-01, 1.6699e-01],\n",
       "          [9.3565e-02, 3.1914e-01, 0.0000e+00,  ..., 0.0000e+00,\n",
       "           0.0000e+00, 0.0000e+00]],\n",
       "\n",
       "         [[6.5895e-01, 1.1345e+00, 2.5958e+00,  ..., 1.4538e+00,\n",
       "           1.1165e+00, 5.8191e-01],\n",
       "          [2.3479e+00, 0.0000e+00, 1.0819e+00,  ..., 7.1226e-01,\n",
       "           0.0000e+00, 0.0000e+00],\n",
       "          [3.4387e+00, 2.3694e-01, 0.0000e+00,  ..., 6.3510e-01,\n",
       "           2.4088e-01, 0.0000e+00],\n",
       "          ...,\n",
       "          [1.9491e+00, 0.0000e+00, 0.0000e+00,  ..., 0.0000e+00,\n",
       "           0.0000e+00, 1.4506e+00],\n",
       "          [1.0072e+00, 0.0000e+00, 0.0000e+00,  ..., 0.0000e+00,\n",
       "           1.3641e-01, 0.0000e+00],\n",
       "          [2.0786e+00, 0.0000e+00, 0.0000e+00,  ..., 1.3233e+00,\n",
       "           3.7364e-02, 0.0000e+00]],\n",
       "\n",
       "         ...,\n",
       "\n",
       "         [[0.0000e+00, 0.0000e+00, 0.0000e+00,  ..., 0.0000e+00,\n",
       "           0.0000e+00, 0.0000e+00],\n",
       "          [4.3372e-02, 0.0000e+00, 0.0000e+00,  ..., 2.9506e-02,\n",
       "           1.9274e+00, 0.0000e+00],\n",
       "          [0.0000e+00, 0.0000e+00, 0.0000e+00,  ..., 6.0453e-01,\n",
       "           1.1532e+00, 3.4957e-01],\n",
       "          ...,\n",
       "          [0.0000e+00, 0.0000e+00, 0.0000e+00,  ..., 0.0000e+00,\n",
       "           0.0000e+00, 2.8611e-01],\n",
       "          [0.0000e+00, 9.6341e-01, 0.0000e+00,  ..., 6.0194e-01,\n",
       "           1.0121e+00, 0.0000e+00],\n",
       "          [0.0000e+00, 0.0000e+00, 4.1337e-01,  ..., 2.2520e-01,\n",
       "           2.3298e-01, 1.6567e+00]],\n",
       "\n",
       "         [[1.3806e+00, 1.4528e+00, 1.5796e+00,  ..., 6.8317e-01,\n",
       "           0.0000e+00, 3.6288e-01],\n",
       "          [0.0000e+00, 5.1309e-01, 0.0000e+00,  ..., 7.2725e-01,\n",
       "           1.0986e+00, 1.5397e+00],\n",
       "          [0.0000e+00, 0.0000e+00, 1.8484e-01,  ..., 5.7815e-01,\n",
       "           7.8671e-01, 2.6967e-01],\n",
       "          ...,\n",
       "          [0.0000e+00, 2.2175e-01, 8.6881e-01,  ..., 0.0000e+00,\n",
       "           4.7684e-01, 3.1751e-01],\n",
       "          [0.0000e+00, 3.9756e-01, 1.3742e+00,  ..., 2.7922e+00,\n",
       "           0.0000e+00, 0.0000e+00],\n",
       "          [0.0000e+00, 9.5330e-01, 1.4373e+00,  ..., 4.5853e-01,\n",
       "           8.5506e-01, 2.4629e+00]],\n",
       "\n",
       "         [[8.4899e-01, 0.0000e+00, 3.7491e-01,  ..., 9.1126e-01,\n",
       "           3.2797e-01, 0.0000e+00],\n",
       "          [0.0000e+00, 1.0374e+00, 0.0000e+00,  ..., 6.3155e-01,\n",
       "           1.6441e+00, 0.0000e+00],\n",
       "          [1.4736e+00, 0.0000e+00, 0.0000e+00,  ..., 0.0000e+00,\n",
       "           3.3713e-02, 8.6335e-01],\n",
       "          ...,\n",
       "          [0.0000e+00, 0.0000e+00, 6.3433e-01,  ..., 0.0000e+00,\n",
       "           2.2192e-01, 0.0000e+00],\n",
       "          [0.0000e+00, 8.1345e-01, 1.6221e+00,  ..., 0.0000e+00,\n",
       "           0.0000e+00, 0.0000e+00],\n",
       "          [0.0000e+00, 0.0000e+00, 0.0000e+00,  ..., 0.0000e+00,\n",
       "           4.2249e-01, 0.0000e+00]]]], grad_fn=<ReluBackward0>)"
      ]
     },
     "execution_count": 19,
     "metadata": {},
     "output_type": "execute_result"
    }
   ],
   "source": [
    "from xcloth.components.sampling import build_sampling_layers, ConvDownSampling\n",
    "\n",
    "# t = build_sampling_layers(\n",
    "#     ConvDownSampling, 64, 3, 2, 2\n",
    "# )\n",
    "\n",
    "t = ConvDownSampling(64, 3)\n",
    "print(t)\n",
    "test_x = torch.Tensor(np.random.random((1, 64, 512, 512)))\n",
    "t(test_x)"
   ]
  },
  {
   "cell_type": "code",
   "execution_count": 4,
   "metadata": {},
   "outputs": [
    {
     "data": {
      "text/plain": [
       "tensor([[[0.5740, 0.5396, 0.0502,  ..., 0.2481, 0.4747, 0.8183],\n",
       "         [0.1873, 0.2236, 0.3850,  ..., 0.9907, 0.5986, 0.6562],\n",
       "         [0.5847, 0.8737, 0.6943,  ..., 0.2625, 0.9006, 0.0972],\n",
       "         ...,\n",
       "         [0.9083, 0.9553, 0.8996,  ..., 0.0762, 0.7806, 0.2407],\n",
       "         [0.8170, 0.7560, 0.2434,  ..., 0.7512, 0.1368, 0.4406],\n",
       "         [0.1650, 0.5508, 0.2480,  ..., 0.1616, 0.1395, 0.3958]],\n",
       "\n",
       "        [[0.6302, 0.4014, 0.0293,  ..., 0.7782, 0.7711, 0.4987],\n",
       "         [0.3310, 0.7213, 0.7662,  ..., 0.0817, 0.4991, 0.6109],\n",
       "         [0.3627, 0.9505, 0.5200,  ..., 0.4299, 0.2510, 0.3201],\n",
       "         ...,\n",
       "         [0.5977, 0.9862, 0.3209,  ..., 0.9485, 0.1235, 0.8796],\n",
       "         [0.3146, 0.0865, 0.6156,  ..., 0.1853, 0.6330, 0.5481],\n",
       "         [0.4614, 0.1814, 0.3649,  ..., 0.5949, 0.4866, 0.9520]],\n",
       "\n",
       "        [[0.5531, 0.2648, 0.1227,  ..., 0.7683, 0.2067, 0.2524],\n",
       "         [0.8197, 0.7022, 0.4613,  ..., 0.6626, 0.7867, 0.5269],\n",
       "         [0.6006, 0.7050, 0.3127,  ..., 0.9765, 0.0483, 0.9051],\n",
       "         ...,\n",
       "         [0.9659, 0.3217, 0.6598,  ..., 0.9089, 0.1587, 0.5555],\n",
       "         [0.8197, 0.1452, 0.0136,  ..., 0.7349, 0.5600, 0.1074],\n",
       "         [0.5704, 0.8993, 0.4147,  ..., 0.7912, 0.3475, 0.8407]],\n",
       "\n",
       "        [[0.7756, 0.2407, 0.4090,  ..., 0.4038, 0.0399, 0.1601],\n",
       "         [0.8250, 0.6548, 0.1537,  ..., 0.8694, 0.5358, 0.1579],\n",
       "         [0.2582, 0.4325, 0.2504,  ..., 0.1331, 0.6226, 0.5830],\n",
       "         ...,\n",
       "         [0.4172, 0.4472, 0.0818,  ..., 0.5181, 0.3581, 0.1041],\n",
       "         [0.0405, 0.7250, 0.8308,  ..., 0.6613, 0.3305, 0.5888],\n",
       "         [0.6876, 0.2261, 0.0527,  ..., 0.8615, 0.2363, 0.6233]]])"
      ]
     },
     "execution_count": 4,
     "metadata": {},
     "output_type": "execute_result"
    }
   ],
   "source": [
    "test_x = torch.Tensor(np.random.random((4, 512, 512)))\n",
    "test_x"
   ]
  },
  {
   "cell_type": "code",
   "execution_count": 5,
   "metadata": {},
   "outputs": [
    {
     "data": {
      "text/plain": [
       "torch.Size([1, 256, 128, 128])"
      ]
     },
     "execution_count": 5,
     "metadata": {},
     "output_type": "execute_result"
    }
   ],
   "source": [
    "shared_enc(test_x, test_x).shape"
   ]
  },
  {
   "cell_type": "code",
   "execution_count": 20,
   "metadata": {},
   "outputs": [
    {
     "name": "stdout",
     "output_type": "stream",
     "text": [
      "torch.Size([1, 4, 512, 512]) torch.Size([1, 12, 512, 512]) torch.Size([1, 12, 512, 512])\n"
     ]
    }
   ],
   "source": [
    "from xcloth.components.decoder import DepthDecoder, NormDecoder, RGBDecoder\n",
    "\n",
    "decoder_d = DepthDecoder()\n",
    "decoder_n = NormDecoder()\n",
    "decoder_rgb = RGBDecoder()\n",
    "\n",
    "\n",
    "test_out = torch.Tensor(np.random.random((1, 256, 128, 128)))\n",
    "print(decoder_d(test_out).shape,\n",
    "      decoder_n(test_out).shape,\n",
    "      decoder_rgb(test_out).shape,\n",
    ")"
   ]
  },
  {
   "cell_type": "code",
   "execution_count": 4,
   "metadata": {},
   "outputs": [],
   "source": [
    "from xcloth.production import Camera\n",
    "\n",
    "np.random.seed(1)\n",
    "\n",
    "camera = Camera()\n",
    "rand = torch.Tensor(np.random.random((1, 4, 1, 512, 512)))\n",
    "camera = Camera()\n",
    "result = camera.project(rand)"
   ]
  },
  {
   "cell_type": "code",
   "execution_count": 5,
   "metadata": {},
   "outputs": [
    {
     "data": {
      "text/plain": [
       "tensor(0.5332)"
      ]
     },
     "execution_count": 5,
     "metadata": {},
     "output_type": "execute_result"
    }
   ],
   "source": [
    "rand[0, 0, 0, 187, 296]"
   ]
  },
  {
   "cell_type": "code",
   "execution_count": 6,
   "metadata": {},
   "outputs": [
    {
     "data": {
      "text/plain": [
       "tensor([ 2.1328e+03, -3.6790e+03,  5.3319e-01])"
      ]
     },
     "execution_count": 6,
     "metadata": {},
     "output_type": "execute_result"
    }
   ],
   "source": [
    "result[0, 0, :, 187, 296]"
   ]
  }
 ],
 "metadata": {
  "kernelspec": {
   "display_name": "data_sci",
   "language": "python",
   "name": "python3"
  },
  "language_info": {
   "codemirror_mode": {
    "name": "ipython",
    "version": 3
   },
   "file_extension": ".py",
   "mimetype": "text/x-python",
   "name": "python",
   "nbconvert_exporter": "python",
   "pygments_lexer": "ipython3",
   "version": "3.10.9"
  },
  "orig_nbformat": 4
 },
 "nbformat": 4,
 "nbformat_minor": 2
}
