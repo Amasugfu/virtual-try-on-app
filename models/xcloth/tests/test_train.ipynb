{
 "cells": [
  {
   "cell_type": "code",
   "execution_count": 1,
   "metadata": {},
   "outputs": [],
   "source": [
    "import torch\n",
    "import numpy as np\n",
    "\n",
    "torch.set_default_device('cuda')\n",
    "np.random.seed(1)\n",
    "\n",
    "import os, sys\n",
    "m_path = os.path.abspath(os.path.join(\"..\\..\"))\n",
    "if m_path not in sys.path:\n",
    "    sys.path.append(m_path)"
   ]
  },
  {
   "cell_type": "code",
   "execution_count": 2,
   "metadata": {},
   "outputs": [],
   "source": [
    "X_train = torch.rand((1, 4, 8, 512, 512))\n",
    "Y_train = torch.rand((1, 4, 4, 8, 512, 512))"
   ]
  },
  {
   "cell_type": "code",
   "execution_count": 3,
   "metadata": {},
   "outputs": [],
   "source": [
    "from xcloth.train import train_model\n",
    "from xcloth.production import XCloth\n",
    "\n",
    "xcloth = XCloth()\n",
    "# xcloth(sample_in, sample_smpl)"
   ]
  },
  {
   "cell_type": "code",
   "execution_count": 4,
   "metadata": {},
   "outputs": [
    {
     "name": "stdout",
     "output_type": "stream",
     "text": [
      "epoch 0: loss: [tensor(1.5391, device='cuda:0', grad_fn=<AddBackward0>)]\n",
      "epoch 1: loss: [tensor(1.7313, device='cuda:0', grad_fn=<AddBackward0>)]\n",
      "epoch 2: loss: [tensor(1.5084, device='cuda:0', grad_fn=<AddBackward0>)]\n",
      "epoch 3: loss: [tensor(1.4293, device='cuda:0', grad_fn=<AddBackward0>)]\n",
      "epoch 4: loss: [tensor(1.4334, device='cuda:0', grad_fn=<AddBackward0>)]\n",
      "epoch 5: loss: [tensor(1.4231, device='cuda:0', grad_fn=<AddBackward0>)]\n",
      "epoch 6: loss: [tensor(1.4180, device='cuda:0', grad_fn=<AddBackward0>)]\n",
      "epoch 7: loss: [tensor(1.4137, device='cuda:0', grad_fn=<AddBackward0>)]\n",
      "epoch 8: loss: [tensor(1.4107, device='cuda:0', grad_fn=<AddBackward0>)]\n",
      "epoch 9: loss: [tensor(1.4083, device='cuda:0', grad_fn=<AddBackward0>)]\n",
      "epoch 10: loss: [tensor(1.4058, device='cuda:0', grad_fn=<AddBackward0>)]\n",
      "epoch 11: loss: [tensor(1.4036, device='cuda:0', grad_fn=<AddBackward0>)]\n",
      "epoch 12: loss: [tensor(1.4023, device='cuda:0', grad_fn=<AddBackward0>)]\n",
      "epoch 13: loss: [tensor(1.4016, device='cuda:0', grad_fn=<AddBackward0>)]\n",
      "epoch 14: loss: [tensor(1.4010, device='cuda:0', grad_fn=<AddBackward0>)]\n",
      "epoch 15: loss: [tensor(1.4005, device='cuda:0', grad_fn=<AddBackward0>)]\n",
      "epoch 16: loss: [tensor(1.4000, device='cuda:0', grad_fn=<AddBackward0>)]\n",
      "epoch 17: loss: [tensor(1.3995, device='cuda:0', grad_fn=<AddBackward0>)]\n",
      "epoch 18: loss: [tensor(1.3990, device='cuda:0', grad_fn=<AddBackward0>)]\n",
      "epoch 19: loss: [tensor(1.3986, device='cuda:0', grad_fn=<AddBackward0>)]\n"
     ]
    }
   ],
   "source": [
    "train_model(\n",
    "    xcloth,\n",
    "    X_train,\n",
    "    Y_train,\n",
    "    verbose=True\n",
    ")"
   ]
  }
 ],
 "metadata": {
  "kernelspec": {
   "display_name": "fyp-xcloth",
   "language": "python",
   "name": "python3"
  },
  "language_info": {
   "codemirror_mode": {
    "name": "ipython",
    "version": 3
   },
   "file_extension": ".py",
   "mimetype": "text/x-python",
   "name": "python",
   "nbconvert_exporter": "python",
   "pygments_lexer": "ipython3",
   "version": "3.10.13"
  }
 },
 "nbformat": 4,
 "nbformat_minor": 2
}
