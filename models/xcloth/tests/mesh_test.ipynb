{
 "cells": [
  {
   "cell_type": "code",
   "execution_count": 1,
   "metadata": {},
   "outputs": [
    {
     "name": "stdout",
     "output_type": "stream",
     "text": [
      "Jupyter environment detected. Enabling Open3D WebVisualizer.\n",
      "[Open3D INFO] WebRTC GUI backend enabled.\n",
      "[Open3D INFO] WebRTCWindowSystem: HTTP handshake server disabled.\n"
     ]
    }
   ],
   "source": [
    "%load_ext autoreload\n",
    "%autoreload 2\n",
    "\n",
    "import os, sys\n",
    "m_path = os.path.abspath(os.path.join(\"..\\..\"))\n",
    "if m_path not in sys.path:\n",
    "    sys.path.append(m_path)\n",
    "    \n",
    "from rigging.weight_transfer import main\n",
    "import open3d as o3d\n",
    "import numpy as np"
   ]
  },
  {
   "cell_type": "code",
   "execution_count": 37,
   "metadata": {},
   "outputs": [],
   "source": [
    "from smplpytorch.pytorch.smpl_layer import SMPL_Layer\n",
    "\n",
    "smpl_layer = SMPL_Layer(\n",
    "    center_idx=0,\n",
    "    gender='male',\n",
    "    model_root=\"C:/Users/User/CODE/FYP/models/smpl\",\n",
    ")\n",
    "\n",
    "tgt_weights = smpl_layer.smpl_data[\"weights\"]"
   ]
  },
  {
   "cell_type": "code",
   "execution_count": 38,
   "metadata": {},
   "outputs": [],
   "source": [
    "import pickle\n",
    "import torch\n",
    "\n",
    "src_dict_path = \"../no_git_test_data/1-1/1-1.pkl\"\n",
    "\n",
    "with open(src_dict_path, \"rb\") as f:\n",
    "    src_dict = pickle.load(f)\n",
    "\n",
    "pose = src_dict['pose']\n",
    "trans = src_dict['trans']\n",
    "scale = src_dict['scale']\n",
    "\n",
    "fin_pose= torch.FloatTensor(pose).unsqueeze(0)\n",
    "# fin_pose = fin_pose.cuda()\n",
    "\n",
    "ret_verts, ret_joints = smpl_layer(fin_pose)\n",
    "\n",
    "ret_verts = ret_verts.detach().cpu().numpy()[0]\n",
    "ret_joints = ret_joints.detach().cpu().numpy()[0]\n",
    "\n",
    "trans_verts = ret_verts * scale + trans\n",
    "trans_joints = ret_joints * scale + trans\n",
    "\n",
    "smpl_mesh = o3d.geometry.TriangleMesh()\n",
    "smpl_mesh.vertices = o3d.utility.Vector3dVector(trans_verts)\n",
    "smpl_mesh.triangles = o3d.utility.Vector3iVector(smpl_layer.th_faces.detach().cpu().numpy())\n",
    "smpl_mesh.compute_vertex_normals()\n",
    "\n",
    "joints = trans_joints\n",
    "joints_pt = o3d.geometry.PointCloud()\n",
    "joints_pt.points = o3d.utility.Vector3dVector(joints)\n",
    "joints_pt.colors = o3d.utility.Vector3dVector(np.repeat([[0, 0, 1]], repeats=joints.shape[0], axis=0))"
   ]
  },
  {
   "cell_type": "code",
   "execution_count": 7,
   "metadata": {},
   "outputs": [],
   "source": [
    "source_mesh_path = \"../no_git_test_data/1-1/smpl1.obj\"\n",
    "target_mesh_path = \"../no_git_test_data/1-1/model_cleaned.obj\"\n",
    "\n",
    "src_mesh = o3d.io.read_triangle_mesh(source_mesh_path)\n",
    "tgt_mesh = o3d.io.read_triangle_mesh(target_mesh_path)\n",
    "\n",
    "src_mesh.compute_vertex_normals()\n",
    "\n",
    "weights, v_match, v_no_match = main(src_mesh, tgt_mesh, tgt_weights)"
   ]
  },
  {
   "cell_type": "code",
   "execution_count": 8,
   "metadata": {},
   "outputs": [],
   "source": [
    "colors = np.zeros((weights.shape[0], 3))\n",
    "colors[v_match] = np.array([0., .5, 0.])\n",
    "colors[v_no_match] = np.array([.5, 0., 0])\n",
    "tgt_mesh.vertex_colors = o3d.utility.Vector3dVector(colors)"
   ]
  },
  {
   "cell_type": "code",
   "execution_count": 29,
   "metadata": {},
   "outputs": [],
   "source": [
    "o3d.visualization.draw_geometries([joints_pt])"
   ]
  },
  {
   "cell_type": "code",
   "execution_count": 39,
   "metadata": {},
   "outputs": [],
   "source": [
    "from xcloth.components.utils import create_o3d_pcd\n",
    "\n",
    "pcd = create_o3d_pcd(tgt_weights @ joints)\n",
    "o3d.visualization.draw_geometries([pcd])"
   ]
  }
 ],
 "metadata": {
  "kernelspec": {
   "display_name": "base",
   "language": "python",
   "name": "python3"
  },
  "language_info": {
   "codemirror_mode": {
    "name": "ipython",
    "version": 3
   },
   "file_extension": ".py",
   "mimetype": "text/x-python",
   "name": "python",
   "nbconvert_exporter": "python",
   "pygments_lexer": "ipython3",
   "version": "3.10.13"
  }
 },
 "nbformat": 4,
 "nbformat_minor": 2
}
