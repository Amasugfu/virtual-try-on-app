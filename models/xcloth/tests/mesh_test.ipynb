{
 "cells": [
  {
   "cell_type": "code",
   "execution_count": 1,
   "metadata": {},
   "outputs": [],
   "source": [
    "import numpy as np\n",
    "import trimesh\n",
    "import matplotlib.pyplot as plt"
   ]
  },
  {
   "cell_type": "code",
   "execution_count": 9,
   "metadata": {},
   "outputs": [],
   "source": [
    "obj_path = \"../no_git_test_data/88-1/model_cleaned.obj\"\n",
    "\n",
    "tm_test = trimesh.load(obj_path)\n",
    "# meshes = pyrender.Mesh.from_trimesh(tm_test)\n",
    "# scene = pyrender.Scene()\n",
    "# scene.add(meshes)\n",
    "\n",
    "# # camera = pyrender.PerspectiveCamera(yfov=np.pi/3, aspectRatio=1)\n",
    "# pyrender.Viewer(scene)\n",
    "\n",
    "grid = np.indices((512, 512)).swapaxes(0, 2).reshape((-1, 2))\n",
    "directions = np.concatenate([grid, np.ones((grid.shape[0], 1))], axis=1)\n",
    "\n",
    "result = tm_test.ray.intersects_location(np.zeros(directions.shape), directions, multiple_hits=True)"
   ]
  },
  {
   "cell_type": "code",
   "execution_count": 12,
   "metadata": {},
   "outputs": [
    {
     "data": {
      "text/plain": [
       "(array([[0.        , 0.        , 0.08489827],\n",
       "        [0.        , 0.17112578, 0.08556289],\n",
       "        [0.        , 0.08186762, 0.08186762],\n",
       "        ...,\n",
       "        [0.07864319, 0.05667582, 0.00021967],\n",
       "        [0.08126463, 0.04275966, 0.00021273],\n",
       "        [0.09043967, 0.00477044, 0.00019877]]),\n",
       " array([     0,   1024,    512, ..., 132454, 103294,  12743], dtype=int64),\n",
       " array([11824, 42325, 33273, ...,  9749,  4382,  4405], dtype=int64))"
      ]
     },
     "execution_count": 12,
     "metadata": {},
     "output_type": "execute_result"
    }
   ],
   "source": [
    "result"
   ]
  },
  {
   "cell_type": "code",
   "execution_count": 17,
   "metadata": {},
   "outputs": [
    {
     "name": "stdout",
     "output_type": "stream",
     "text": [
      "run Poisson surface reconstruction\n",
      "[Open3D DEBUG] Input Points / Samples: 796825 / 368254\n",
      "[Open3D DEBUG] #   Got kernel density: 0.147 (s), 346.621 (MB) / 753.891 (MB) / 833 (MB)\n"
     ]
    }
   ],
   "source": [
    "import open3d as o3d\n",
    "\n",
    "eagle = o3d.data.EaglePointCloud()\n",
    "pcd = o3d.io.read_point_cloud(eagle.path)\n",
    "\n",
    "o3d.visualization.draw_geometries([pcd],\n",
    "                                  zoom=0.664,\n",
    "                                  front=[-0.4761, -0.4698, -0.7434],\n",
    "                                  lookat=[1.8900, 3.2596, 0.9284],\n",
    "                                  up=[0.2304, -0.8825, 0.4101])\n",
    "\n",
    "\n",
    "print('run Poisson surface reconstruction')\n",
    "with o3d.utility.VerbosityContextManager(o3d.utility.VerbosityLevel.Debug) as cm:\n",
    "    mesh, densities = o3d.geometry.TriangleMesh.create_from_point_cloud_poisson(pcd, depth=9)\n",
    "print(mesh)\n",
    "o3d.visualization.draw_geometries([mesh],\n",
    "                                  zoom=0.664,\n",
    "                                  front=[-0.4761, -0.4698, -0.7434],\n",
    "                                  lookat=[1.8900, 3.2596, 0.9284],\n",
    "                                  up=[0.2304, -0.8825, 0.4101])"
   ]
  }
 ],
 "metadata": {
  "kernelspec": {
   "display_name": "base",
   "language": "python",
   "name": "python3"
  },
  "language_info": {
   "codemirror_mode": {
    "name": "ipython",
    "version": 3
   },
   "file_extension": ".py",
   "mimetype": "text/x-python",
   "name": "python",
   "nbconvert_exporter": "python",
   "pygments_lexer": "ipython3",
   "version": "3.10.13"
  }
 },
 "nbformat": 4,
 "nbformat_minor": 2
}
