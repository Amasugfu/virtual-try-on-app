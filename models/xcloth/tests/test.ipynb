{
 "cells": [
  {
   "cell_type": "code",
   "execution_count": 3,
   "metadata": {},
   "outputs": [
    {
     "data": {
      "text/plain": [
       "array([[0, 0, 1, 1, 0, 0],\n",
       "       [0, 1, 0, 0, 1, 0],\n",
       "       [1, 0, 0, 1, 0, 0],\n",
       "       [0, 1, 1, 0, 0, 0]])"
      ]
     },
     "execution_count": 3,
     "metadata": {},
     "output_type": "execute_result"
    }
   ],
   "source": [
    "from scipy.ndimage import generic_filter\n",
    "import numpy as np\n",
    "\n",
    "mask = np.array([\n",
    "    [0, 1, 0],\n",
    "    [1, 0, 1],\n",
    "    [0, 1, 0]\n",
    "]).astype(bool).flatten()\n",
    "\n",
    "def replace_non_border(x):\n",
    "    return 0 if np.all(x[mask]) else x[4]\n",
    "\n",
    "target = np.array([\n",
    "    [0, 0, 1, 1, 0, 0],\n",
    "    [0, 1, 1, 1, 1, 0],\n",
    "    [1, 1, 1, 1, 0, 0],\n",
    "    [0, 1, 1, 0, 0, 0]\n",
    "])\n",
    "\n",
    "generic_filter(target, replace_non_border, 3)"
   ]
  },
  {
   "cell_type": "code",
   "execution_count": 4,
   "metadata": {},
   "outputs": [
    {
     "data": {
      "text/plain": [
       "array([[[0, 0],\n",
       "        [0, 1],\n",
       "        [0, 2],\n",
       "        [0, 3],\n",
       "        [0, 4]],\n",
       "\n",
       "       [[1, 0],\n",
       "        [1, 1],\n",
       "        [1, 2],\n",
       "        [1, 3],\n",
       "        [1, 4]],\n",
       "\n",
       "       [[2, 0],\n",
       "        [2, 1],\n",
       "        [2, 2],\n",
       "        [2, 3],\n",
       "        [2, 4]],\n",
       "\n",
       "       [[3, 0],\n",
       "        [3, 1],\n",
       "        [3, 2],\n",
       "        [3, 3],\n",
       "        [3, 4]],\n",
       "\n",
       "       [[4, 0],\n",
       "        [4, 1],\n",
       "        [4, 2],\n",
       "        [4, 3],\n",
       "        [4, 4]]])"
      ]
     },
     "execution_count": 4,
     "metadata": {},
     "output_type": "execute_result"
    }
   ],
   "source": [
    "np.moveaxis(np.indices((5, 5)), 0, -1)"
   ]
  }
 ],
 "metadata": {
  "kernelspec": {
   "display_name": "fyp-xcloth",
   "language": "python",
   "name": "python3"
  },
  "language_info": {
   "codemirror_mode": {
    "name": "ipython",
    "version": 3
   },
   "file_extension": ".py",
   "mimetype": "text/x-python",
   "name": "python",
   "nbconvert_exporter": "python",
   "pygments_lexer": "ipython3",
   "version": "3.10.13"
  }
 },
 "nbformat": 4,
 "nbformat_minor": 2
}
