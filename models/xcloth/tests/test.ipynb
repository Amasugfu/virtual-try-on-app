{
 "cells": [
  {
   "cell_type": "code",
   "execution_count": 3,
   "metadata": {},
   "outputs": [
    {
     "data": {
      "text/plain": [
       "array([[0, 0, 1, 1, 0, 0],\n",
       "       [0, 1, 0, 0, 1, 0],\n",
       "       [1, 0, 0, 1, 0, 0],\n",
       "       [0, 1, 1, 0, 0, 0]])"
      ]
     },
     "execution_count": 3,
     "metadata": {},
     "output_type": "execute_result"
    }
   ],
   "source": [
    "from scipy.ndimage import generic_filter\n",
    "import numpy as np\n",
    "\n",
    "mask = np.array([\n",
    "    [0, 1, 0],\n",
    "    [1, 0, 1],\n",
    "    [0, 1, 0]\n",
    "]).astype(bool).flatten()\n",
    "\n",
    "def replace_non_border(x):\n",
    "    return 0 if np.all(x[mask]) else x[4]\n",
    "\n",
    "target = np.array([\n",
    "    [0, 0, 1, 1, 0, 0],\n",
    "    [0, 1, 1, 1, 1, 0],\n",
    "    [1, 1, 1, 1, 0, 0],\n",
    "    [0, 1, 1, 0, 0, 0]\n",
    "])\n",
    "\n",
    "generic_filter(target, replace_non_border, 3)"
   ]
  },
  {
   "cell_type": "code",
   "execution_count": 4,
   "metadata": {},
   "outputs": [
    {
     "data": {
      "text/plain": [
       "array([[[0, 0],\n",
       "        [0, 1],\n",
       "        [0, 2],\n",
       "        [0, 3],\n",
       "        [0, 4]],\n",
       "\n",
       "       [[1, 0],\n",
       "        [1, 1],\n",
       "        [1, 2],\n",
       "        [1, 3],\n",
       "        [1, 4]],\n",
       "\n",
       "       [[2, 0],\n",
       "        [2, 1],\n",
       "        [2, 2],\n",
       "        [2, 3],\n",
       "        [2, 4]],\n",
       "\n",
       "       [[3, 0],\n",
       "        [3, 1],\n",
       "        [3, 2],\n",
       "        [3, 3],\n",
       "        [3, 4]],\n",
       "\n",
       "       [[4, 0],\n",
       "        [4, 1],\n",
       "        [4, 2],\n",
       "        [4, 3],\n",
       "        [4, 4]]])"
      ]
     },
     "execution_count": 4,
     "metadata": {},
     "output_type": "execute_result"
    }
   ],
   "source": [
    "np.moveaxis(np.indices((5, 5)), 0, -1)"
   ]
  },
  {
   "cell_type": "code",
   "execution_count": 4,
   "metadata": {},
   "outputs": [
    {
     "data": {
      "text/plain": [
       "(0.00035999999999999997, (0, 0, 3, 1))"
      ]
     },
     "execution_count": 4,
     "metadata": {},
     "output_type": "execute_result"
    }
   ],
   "source": [
    "pa = (0.20, 0.15, 0.05, 0.025)\n",
    "pb = (0.30, 0.20, 0.10, 0.05)\n",
    "pc = (0.40, 0.25, 0.10, 0.02)\n",
    "pd = (0.50, 0.30, 0.15, 0.10)\n",
    "\n",
    "p = []\n",
    "\n",
    "for ia, a in enumerate(pa):\n",
    "    ta = 4 - ia\n",
    "    for ib, b in enumerate(pb):\n",
    "        tb = ta - ib\n",
    "        if tb == 0:\n",
    "            p.append((a*b*pc[0]*pd[0], (ia, ib)))\n",
    "            break\n",
    "        for ic, c in enumerate(pc):\n",
    "            tc = tb - ic\n",
    "            if tc == 0:\n",
    "                p.append((a*b*c*pd[0], (ia, ib, ic)))\n",
    "                break\n",
    "            for id, d in enumerate(pd):\n",
    "                td = tc - id\n",
    "                if td == 0:\n",
    "                    p.append((a*b*c*d, (ia, ib, ic, id)))\n",
    "                    break\n",
    "\n",
    "min(p)"
   ]
  }
 ],
 "metadata": {
  "kernelspec": {
   "display_name": "fyp-xcloth",
   "language": "python",
   "name": "python3"
  },
  "language_info": {
   "codemirror_mode": {
    "name": "ipython",
    "version": 3
   },
   "file_extension": ".py",
   "mimetype": "text/x-python",
   "name": "python",
   "nbconvert_exporter": "python",
   "pygments_lexer": "ipython3",
   "version": "3.10.13"
  }
 },
 "nbformat": 4,
 "nbformat_minor": 2
}
