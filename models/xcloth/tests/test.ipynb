{
 "cells": [
  {
   "cell_type": "code",
   "execution_count": 5,
   "metadata": {},
   "outputs": [],
   "source": [
    "import numpy as np\n",
    "\n",
    "\n",
    "a = np.array([\n",
    "    [1, 1, 1],\n",
    "     [1, 1, 1],\n",
    "    [2, 2, 2],\n",
    "     [2, 2, 2],\n",
    "])\n",
    "\n",
    "b = np.array([\n",
    "    [1, 1, 1],\n",
    "    [1, 1, 1],\n",
    "    [2, 2, 2],\n",
    "    [2, 2, 2]\n",
    "])"
   ]
  },
  {
   "cell_type": "code",
   "execution_count": 6,
   "metadata": {},
   "outputs": [
    {
     "data": {
      "text/plain": [
       "[array([[1, 1, 1],\n",
       "        [1, 1, 1],\n",
       "        [2, 2, 2],\n",
       "        [2, 2, 2]]),\n",
       " array([[1, 1, 1],\n",
       "        [1, 1, 1],\n",
       "        [2, 2, 2],\n",
       "        [2, 2, 2]])]"
      ]
     },
     "execution_count": 6,
     "metadata": {},
     "output_type": "execute_result"
    }
   ],
   "source": [
    "l = [a, b]\n",
    "\n",
    "l"
   ]
  },
  {
   "cell_type": "code",
   "execution_count": 10,
   "metadata": {},
   "outputs": [
    {
     "data": {
      "text/plain": [
       "torch.Size([2, 4, 3])"
      ]
     },
     "execution_count": 10,
     "metadata": {},
     "output_type": "execute_result"
    }
   ],
   "source": [
    "import torch\n",
    "\n",
    "torch.tensor(l).shape"
   ]
  }
 ],
 "metadata": {
  "kernelspec": {
   "display_name": "fyp-xcloth",
   "language": "python",
   "name": "python3"
  },
  "language_info": {
   "codemirror_mode": {
    "name": "ipython",
    "version": 3
   },
   "file_extension": ".py",
   "mimetype": "text/x-python",
   "name": "python",
   "nbconvert_exporter": "python",
   "pygments_lexer": "ipython3",
   "version": "3.10.13"
  }
 },
 "nbformat": 4,
 "nbformat_minor": 2
}
