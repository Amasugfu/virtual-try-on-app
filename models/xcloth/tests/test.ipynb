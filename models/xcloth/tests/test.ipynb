{
 "cells": [
  {
   "cell_type": "code",
   "execution_count": 3,
   "metadata": {},
   "outputs": [
    {
     "data": {
      "text/plain": [
       "array([[0, 0, 1, 1, 0, 0],\n",
       "       [0, 1, 0, 0, 1, 0],\n",
       "       [1, 0, 0, 1, 0, 0],\n",
       "       [0, 1, 1, 0, 0, 0]])"
      ]
     },
     "execution_count": 3,
     "metadata": {},
     "output_type": "execute_result"
    }
   ],
   "source": [
    "from scipy.ndimage import generic_filter\n",
    "import numpy as np\n",
    "\n",
    "mask = np.array([\n",
    "    [0, 1, 0],\n",
    "    [1, 0, 1],\n",
    "    [0, 1, 0]\n",
    "]).astype(bool).flatten()\n",
    "\n",
    "def replace_non_border(x):\n",
    "    return 0 if np.all(x[mask]) else x[4]\n",
    "\n",
    "target = np.array([\n",
    "    [0, 0, 1, 1, 0, 0],\n",
    "    [0, 1, 1, 1, 1, 0],\n",
    "    [1, 1, 1, 1, 0, 0],\n",
    "    [0, 1, 1, 0, 0, 0]\n",
    "])\n",
    "\n",
    "generic_filter(target, replace_non_border, 3)"
   ]
  },
  {
   "cell_type": "code",
   "execution_count": 7,
   "metadata": {},
   "outputs": [
    {
     "name": "stdout",
     "output_type": "stream",
     "text": [
      "Using ROMP v1\n"
     ]
    }
   ],
   "source": [
    "import romp\n",
    "import cv2\n",
    "\n",
    "import torch\n",
    "from torch.utils.mobile_optimizer import optimize_for_mobile\n",
    "\n",
    "import numpy as np\n",
    "\n",
    "settings = romp.main.romp_settings([\"--show\", \"--render_mesh\"])\n",
    "romp_model = romp.ROMP(settings)\n",
    "\n",
    "# outputs = romp_model(cv2.imread(\"../../PyMAF/real_test/clothed.png\"))\n",
    "# outputs\n",
    "\n",
    "# example = np.random.rand(512, 512, 3)\n",
    "# torch.jit.trace(romp_model, example)"
   ]
  },
  {
   "cell_type": "code",
   "execution_count": 5,
   "metadata": {},
   "outputs": [
    {
     "name": "stdout",
     "output_type": "stream",
     "text": [
      "WARNING: You are using a SMPL model, with only 10 shape coefficients.\n"
     ]
    },
    {
     "name": "stderr",
     "output_type": "stream",
     "text": [
      "c:\\Users\\User\\.conda\\envs\\fyp-xcloth\\lib\\site-packages\\torchvision\\models\\_utils.py:208: UserWarning: The parameter 'pretrained' is deprecated since 0.13 and may be removed in the future, please use 'weights' instead.\n",
      "  warnings.warn(\n",
      "c:\\Users\\User\\.conda\\envs\\fyp-xcloth\\lib\\site-packages\\torchvision\\models\\_utils.py:223: UserWarning: Arguments other than a weight enum or `None` for 'weights' are deprecated since 0.13 and may be removed in the future. The current behavior is equivalent to passing `weights=ResNet50_Weights.IMAGENET1K_V1`. You can also use `weights=ResNet50_Weights.DEFAULT` to get the most up-to-date weights.\n",
      "  warnings.warn(msg)\n",
      "Downloading: \"https://download.pytorch.org/models/resnet50-0676ba61.pth\" to C:\\Users\\User/.cache\\torch\\hub\\checkpoints\\resnet50-0676ba61.pth\n",
      "100%|██████████| 97.8M/97.8M [04:05<00:00, 418kB/s] \n"
     ]
    },
    {
     "name": "stdout",
     "output_type": "stream",
     "text": [
      "WARNING: You are using a SMPL model, with only 10 shape coefficients.\n",
      "=> loaded pretrained model from 'data/vibe_data\\spin_model_checkpoint.pth.tar'\n",
      "Performance of pretrained model on 3DPW: 56.56075477600098\n",
      "Loaded pretrained weights from \"data/vibe_data/vibe_model_wo_3dpw.pth.tar\"\n"
     ]
    },
    {
     "name": "stderr",
     "output_type": "stream",
     "text": [
      "c:\\Users\\User\\.conda\\envs\\fyp-xcloth\\lib\\site-packages\\yolov3\\models.py:131: UserWarning: The torch.cuda.*DtypeTensor constructors are no longer recommended. It's best to use methods such as torch.tensor(data, dtype=*, device='cuda') to create tensors. (Triggered internally at C:\\cb\\pytorch_1000000000000\\work\\torch\\csrc\\tensor\\python_tensor.cpp:85.)\n",
      "  self.scaled_anchors = FloatTensor([(a_w / self.stride, a_h / self.stride) for a_w, a_h in self.anchors])\n"
     ]
    },
    {
     "name": "stdout",
     "output_type": "stream",
     "text": [
      "WARNING: You are using a SMPL model, with only 10 shape coefficients.\n",
      "Unexpected exception formatting exception. Falling back to standard exception\n"
     ]
    },
    {
     "name": "stderr",
     "output_type": "stream",
     "text": [
      "Traceback (most recent call last):\n",
      "  File \"c:\\Users\\User\\.conda\\envs\\fyp-xcloth\\lib\\site-packages\\OpenGL\\platform\\egl.py\", line 67, in EGL\n",
      "    return ctypesloader.loadLibrary(\n",
      "  File \"c:\\Users\\User\\.conda\\envs\\fyp-xcloth\\lib\\site-packages\\OpenGL\\platform\\ctypesloader.py\", line 45, in loadLibrary\n",
      "    return dllType( name, mode )\n",
      "  File \"c:\\Users\\User\\.conda\\envs\\fyp-xcloth\\lib\\ctypes\\__init__.py\", line 374, in __init__\n",
      "    self._handle = _dlopen(self._name, mode)\n",
      "FileNotFoundError: (\"Could not find module 'EGL' (or one of its dependencies). Try using the full path with constructor syntax.\", 'EGL', None)\n",
      "\n",
      "During handling of the above exception, another exception occurred:\n",
      "\n",
      "Traceback (most recent call last):\n",
      "  File \"c:\\Users\\User\\.conda\\envs\\fyp-xcloth\\lib\\site-packages\\IPython\\core\\interactiveshell.py\", line 3548, in run_code\n",
      "    exec(code_obj, self.user_global_ns, self.user_ns)\n",
      "  File \"C:\\Users\\User\\AppData\\Local\\Temp\\ipykernel_275176\\4551838.py\", line 17, in <module>\n",
      "    result = rt_vibe(frame)\n",
      "  File \"c:\\Users\\User\\.conda\\envs\\fyp-xcloth\\lib\\site-packages\\torch\\utils\\_contextlib.py\", line 115, in decorate_context\n",
      "    return func(*args, **kwargs)\n",
      "  File \"c:\\Users\\User\\.conda\\envs\\fyp-xcloth\\lib\\site-packages\\vibe\\rt\\rt_vibe.py\", line 214, in __call__\n",
      "    if self.sideview:\n",
      "  File \"c:\\Users\\User\\.conda\\envs\\fyp-xcloth\\lib\\site-packages\\vibe\\rt\\rt_vibe.py\", line 223, in _render_and_show\n",
      "  File \"c:\\Users\\User\\.conda\\envs\\fyp-xcloth\\lib\\site-packages\\vibe\\utils\\renderer.py\", line 57, in __init__\n",
      "    self.renderer = pyrender.OffscreenRenderer(\n",
      "  File \"c:\\Users\\User\\.conda\\envs\\fyp-xcloth\\lib\\site-packages\\pyrender\\offscreen.py\", line 31, in __init__\n",
      "    self._create()\n",
      "  File \"c:\\Users\\User\\.conda\\envs\\fyp-xcloth\\lib\\site-packages\\pyrender\\offscreen.py\", line 135, in _create\n",
      "    from pyrender.platforms import egl\n",
      "  File \"c:\\Users\\User\\.conda\\envs\\fyp-xcloth\\lib\\site-packages\\pyrender\\platforms\\egl.py\", line 25, in <module>\n",
      "    _ensure_egl_loaded()\n",
      "  File \"c:\\Users\\User\\.conda\\envs\\fyp-xcloth\\lib\\site-packages\\pyrender\\platforms\\egl.py\", line 22, in _ensure_egl_loaded\n",
      "    plugin.install(vars(OpenGL.platform))\n",
      "  File \"c:\\Users\\User\\.conda\\envs\\fyp-xcloth\\lib\\site-packages\\OpenGL\\platform\\baseplatform.py\", line 92, in install\n",
      "    namespace[ name ] = getattr(self,name,None)\n",
      "  File \"c:\\Users\\User\\.conda\\envs\\fyp-xcloth\\lib\\site-packages\\OpenGL\\platform\\baseplatform.py\", line 14, in __get__\n",
      "    value = self.fget( obj )\n",
      "  File \"c:\\Users\\User\\.conda\\envs\\fyp-xcloth\\lib\\site-packages\\OpenGL\\platform\\egl.py\", line 93, in GetCurrentContext\n",
      "    return self.EGL.eglGetCurrentContext\n",
      "  File \"c:\\Users\\User\\.conda\\envs\\fyp-xcloth\\lib\\site-packages\\OpenGL\\platform\\baseplatform.py\", line 14, in __get__\n",
      "    value = self.fget( obj )\n",
      "  File \"c:\\Users\\User\\.conda\\envs\\fyp-xcloth\\lib\\site-packages\\OpenGL\\platform\\egl.py\", line 73, in EGL\n",
      "    raise ImportError(\"Unable to load EGL library\", *err.args)\n",
      "ImportError: ('Unable to load EGL library', \"Could not find module 'EGL' (or one of its dependencies). Try using the full path with constructor syntax.\", 'EGL', None)\n",
      "\n",
      "During handling of the above exception, another exception occurred:\n",
      "\n",
      "Traceback (most recent call last):\n",
      "  File \"c:\\Users\\User\\.conda\\envs\\fyp-xcloth\\lib\\site-packages\\IPython\\core\\interactiveshell.py\", line 2142, in showtraceback\n",
      "    stb = self.InteractiveTB.structured_traceback(\n",
      "  File \"c:\\Users\\User\\.conda\\envs\\fyp-xcloth\\lib\\site-packages\\IPython\\core\\ultratb.py\", line 1435, in structured_traceback\n",
      "    return FormattedTB.structured_traceback(\n",
      "  File \"c:\\Users\\User\\.conda\\envs\\fyp-xcloth\\lib\\site-packages\\IPython\\core\\ultratb.py\", line 1326, in structured_traceback\n",
      "    return VerboseTB.structured_traceback(\n",
      "  File \"c:\\Users\\User\\.conda\\envs\\fyp-xcloth\\lib\\site-packages\\IPython\\core\\ultratb.py\", line 1173, in structured_traceback\n",
      "    formatted_exception = self.format_exception_as_a_whole(etype, evalue, etb, number_of_lines_of_context,\n",
      "  File \"c:\\Users\\User\\.conda\\envs\\fyp-xcloth\\lib\\site-packages\\IPython\\core\\ultratb.py\", line 1088, in format_exception_as_a_whole\n",
      "    frames.append(self.format_record(record))\n",
      "  File \"c:\\Users\\User\\.conda\\envs\\fyp-xcloth\\lib\\site-packages\\IPython\\core\\ultratb.py\", line 970, in format_record\n",
      "    frame_info.lines, Colors, self.has_colors, lvals\n",
      "  File \"c:\\Users\\User\\.conda\\envs\\fyp-xcloth\\lib\\site-packages\\IPython\\core\\ultratb.py\", line 792, in lines\n",
      "    return self._sd.lines\n",
      "  File \"c:\\Users\\User\\.conda\\envs\\fyp-xcloth\\lib\\site-packages\\stack_data\\utils.py\", line 145, in cached_property_wrapper\n",
      "    value = obj.__dict__[self.func.__name__] = self.func(obj)\n",
      "  File \"c:\\Users\\User\\.conda\\envs\\fyp-xcloth\\lib\\site-packages\\stack_data\\core.py\", line 734, in lines\n",
      "    pieces = self.included_pieces\n",
      "  File \"c:\\Users\\User\\.conda\\envs\\fyp-xcloth\\lib\\site-packages\\stack_data\\utils.py\", line 145, in cached_property_wrapper\n",
      "    value = obj.__dict__[self.func.__name__] = self.func(obj)\n",
      "  File \"c:\\Users\\User\\.conda\\envs\\fyp-xcloth\\lib\\site-packages\\stack_data\\core.py\", line 681, in included_pieces\n",
      "    pos = scope_pieces.index(self.executing_piece)\n",
      "  File \"c:\\Users\\User\\.conda\\envs\\fyp-xcloth\\lib\\site-packages\\stack_data\\utils.py\", line 145, in cached_property_wrapper\n",
      "    value = obj.__dict__[self.func.__name__] = self.func(obj)\n",
      "  File \"c:\\Users\\User\\.conda\\envs\\fyp-xcloth\\lib\\site-packages\\stack_data\\core.py\", line 660, in executing_piece\n",
      "    return only(\n",
      "  File \"c:\\Users\\User\\.conda\\envs\\fyp-xcloth\\lib\\site-packages\\executing\\executing.py\", line 116, in only\n",
      "    raise NotOneValueFound('Expected one value, found 0')\n",
      "executing.executing.NotOneValueFound: Expected one value, found 0\n"
     ]
    }
   ],
   "source": [
    "import sys\n",
    "sys.path.append(\"C:/Users/User/lib/RT-VIBE\")\n",
    "\n",
    "import cv2\n",
    "from vibe.rt import RtVibe\n",
    "    \n",
    "rt_vibe = RtVibe()\n",
    "\n",
    "rt_vibe.render = True\n",
    "\n",
    "cap = cv2.VideoCapture(0)\n",
    "if not cap.isOpened():\n",
    "    print(\"Error opening video stream or file\")\n",
    "while cap.isOpened():\n",
    "    ret, frame = cap.read()\n",
    "    if ret:\n",
    "        result = rt_vibe(frame)\n",
    "    else:\n",
    "        break"
   ]
  },
  {
   "cell_type": "code",
   "execution_count": 2,
   "metadata": {},
   "outputs": [
    {
     "ename": "ValueError",
     "evalue": "invalid literal for int() with base 10: '2/1/2'",
     "output_type": "error",
     "traceback": [
      "\u001b[1;31m---------------------------------------------------------------------------\u001b[0m",
      "\u001b[1;31mValueError\u001b[0m                                Traceback (most recent call last)",
      "Cell \u001b[1;32mIn[2], line 4\u001b[0m\n\u001b[0;32m      1\u001b[0m \u001b[38;5;28;01mfrom\u001b[39;00m \u001b[38;5;21;01mconfmap\u001b[39;00m\u001b[38;5;21;01m.\u001b[39;00m\u001b[38;5;21;01mconfmap\u001b[39;00m \u001b[38;5;28;01mimport\u001b[39;00m BFF\n\u001b[0;32m      2\u001b[0m \u001b[38;5;28;01mfrom\u001b[39;00m \u001b[38;5;21;01mconfmap\u001b[39;00m\u001b[38;5;21;01m.\u001b[39;00m\u001b[38;5;21;01mio_utils\u001b[39;00m \u001b[38;5;28;01mimport\u001b[39;00m read_obj, write_obj\n\u001b[1;32m----> 4\u001b[0m vertices, faces \u001b[38;5;241m=\u001b[39m \u001b[43mread_obj\u001b[49m\u001b[43m(\u001b[49m\u001b[38;5;124;43m'\u001b[39;49m\u001b[38;5;124;43mmodels/xcloth/no_git_test_data/1-1/model_cleaned.obj\u001b[39;49m\u001b[38;5;124;43m'\u001b[39;49m\u001b[43m)\u001b[49m\n\u001b[0;32m      5\u001b[0m cm \u001b[38;5;241m=\u001b[39m BFF(vertices, faces)\n\u001b[0;32m      6\u001b[0m image \u001b[38;5;241m=\u001b[39m cm\u001b[38;5;241m.\u001b[39mlayout()\n",
      "File \u001b[1;32mc:\\users\\user\\code\\fyp\\models\\confmap\\confmap\\io_utils.py:41\u001b[0m, in \u001b[0;36mread_obj\u001b[1;34m(file_path)\u001b[0m\n\u001b[0;32m     39\u001b[0m             vertices\u001b[38;5;241m.\u001b[39mappend(\u001b[38;5;28mlist\u001b[39m(\u001b[38;5;28mmap\u001b[39m(\u001b[38;5;28mfloat\u001b[39m, words[\u001b[38;5;241m1\u001b[39m:])))\n\u001b[0;32m     40\u001b[0m         \u001b[38;5;28;01melif\u001b[39;00m words[\u001b[38;5;241m0\u001b[39m] \u001b[38;5;241m==\u001b[39m \u001b[38;5;124m'\u001b[39m\u001b[38;5;124mf\u001b[39m\u001b[38;5;124m'\u001b[39m:\n\u001b[1;32m---> 41\u001b[0m             faces\u001b[38;5;241m.\u001b[39mappend(\u001b[38;5;28;43mlist\u001b[39;49m\u001b[43m(\u001b[49m\u001b[38;5;28;43mmap\u001b[39;49m\u001b[43m(\u001b[49m\u001b[38;5;28;43mint\u001b[39;49m\u001b[43m,\u001b[49m\u001b[43m \u001b[49m\u001b[43mwords\u001b[49m\u001b[43m[\u001b[49m\u001b[38;5;241;43m1\u001b[39;49m\u001b[43m:\u001b[49m\u001b[43m]\u001b[49m\u001b[43m)\u001b[49m\u001b[43m)\u001b[49m)\n\u001b[0;32m     42\u001b[0m \u001b[38;5;28;01mreturn\u001b[39;00m np\u001b[38;5;241m.\u001b[39marray(vertices), np\u001b[38;5;241m.\u001b[39marray(faces) \u001b[38;5;241m-\u001b[39m \u001b[38;5;241m1\u001b[39m\n",
      "\u001b[1;31mValueError\u001b[0m: invalid literal for int() with base 10: '2/1/2'"
     ]
    }
   ],
   "source": [
    "from confmap.confmap import BFF\n",
    "from confmap.io_utils import read_obj, write_obj\n",
    "\n",
    "vertices, faces = read_obj('models/xcloth/no_git_test_data/1-1/model_cleaned.obj')\n",
    "cm = BFF(vertices, faces)\n",
    "image = cm.layout()\n",
    "write_obj('bumpcap_with_uv.obj', cm.vertices, cm.faces, image.vertices, image.faces)"
   ]
  }
 ],
 "metadata": {
  "kernelspec": {
   "display_name": "fyp-xcloth",
   "language": "python",
   "name": "python3"
  },
  "language_info": {
   "codemirror_mode": {
    "name": "ipython",
    "version": 3
   },
   "file_extension": ".py",
   "mimetype": "text/x-python",
   "name": "python",
   "nbconvert_exporter": "python",
   "pygments_lexer": "ipython3",
   "version": "3.10.13"
  }
 },
 "nbformat": 4,
 "nbformat_minor": 2
}
